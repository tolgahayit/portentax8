{
 "cells": [
  {
   "cell_type": "code",
   "execution_count": 6,
   "metadata": {},
   "outputs": [
    {
     "name": "stdout",
     "output_type": "stream",
     "text": [
      "EKG Verisi Şekli (Orijinal): (1, 12, 5000)\n",
      "Transpoze Sonrası Şekil: (5000, 12)\n",
      "Model Girişi Şekli: (1, 2500, 12)\n",
      "1/1 [==============================] - 0s 152ms/step\n",
      "Tahmin Sonuçları: [[0.9815624  0.00117742 0.01477811 0.00248212]]\n"
     ]
    }
   ],
   "source": [
    "# Gerekli kütüphaneleri yükleme\n",
    "import numpy as np\n",
    "from tensorflow.keras.models import load_model\n",
    "\n",
    "# Modeli yükle\n",
    "model = load_model('./model/C_12leads_EF_resnet_92.h5')\n",
    "\n",
    "# EKG verisini yükle\n",
    "ekg_data = np.load('./sample_ecgs/500Hz_RURAL_109270_20230830121417.npy')\n",
    "\n",
    "# Şekli kontrol et\n",
    "print(\"EKG Verisi Şekli (Orijinal):\", ekg_data.shape)\n",
    "\n",
    "# İlk boyutu sıkıştır ve transpoze et (5000, 12) olacak şekilde\n",
    "ekg_data = np.squeeze(ekg_data, axis=0).T\n",
    "print(\"Transpoze Sonrası Şekil:\", ekg_data.shape)\n",
    "\n",
    "# Çift indeksli örnekleri seç (0, 2, 4, ...)\n",
    "ekg_data_even_indices = ekg_data[::2, :]  # (2500, 12)\n",
    "\n",
    "# Model giriş boyutuna uygun hale getir\n",
    "ekg_data_even_indices = np.expand_dims(ekg_data_even_indices, axis=0)  # (1, 2500, 12)\n",
    "print(\"Model Girişi Şekli:\", ekg_data_even_indices.shape)\n",
    "\n",
    "# Modelden tahmin alma\n",
    "predictions = model.predict(ekg_data_even_indices)\n",
    "\n",
    "# Sonuçları yazdırma\n",
    "print(\"Tahmin Sonuçları:\", predictions)"
   ]
  },
  {
   "cell_type": "code",
   "execution_count": null,
   "metadata": {},
   "outputs": [],
   "source": [
    "\n",
    "# Veriyi uygun boyuta dönüştür\n",
    "# Şekil (5000, 12) olacak şekilde transpoze et\n",
    "ekg_data = np.transpose(ekg_data, (1, 0))  # (5000, 12)\n",
    "\n",
    "# Çift indeksli örnekleri seç (0, 2, 4, ...)\n",
    "ekg_data_even_indices = ekg_data[::2, :]  # (2500, 12)\n",
    "\n",
    "# Model giriş boyutuna uygun hale getir\n",
    "ekg_data_even_indices = np.expand_dims(ekg_data_even_indices, axis=0)  # (1, 2500, 12)\n",
    "\n",
    "# Modelden tahmin alma\n",
    "predictions = model.predict(ekg_data_even_indices)\n",
    "\n",
    "# Sonuçları yazdırma\n",
    "print(\"Tahmin Sonuçları:\", predictions)"
   ]
  }
 ],
 "metadata": {
  "kernelspec": {
   "display_name": "base",
   "language": "python",
   "name": "python3"
  },
  "language_info": {
   "codemirror_mode": {
    "name": "ipython",
    "version": 3
   },
   "file_extension": ".py",
   "mimetype": "text/x-python",
   "name": "python",
   "nbconvert_exporter": "python",
   "pygments_lexer": "ipython3",
   "version": "3.11.5"
  }
 },
 "nbformat": 4,
 "nbformat_minor": 2
}
